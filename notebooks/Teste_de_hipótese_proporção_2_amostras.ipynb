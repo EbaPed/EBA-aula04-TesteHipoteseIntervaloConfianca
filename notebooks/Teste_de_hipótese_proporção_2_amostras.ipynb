{
  "cells": [
    {
      "cell_type": "code",
      "execution_count": 7,
      "metadata": {
        "id": "mNQsb_0Ax6Ct"
      },
      "outputs": [],
      "source": [
        " # Packages imports\n",
        "import numpy as np\n",
        "import pandas as pd\n",
        "import scipy.stats as stats\n",
        "import statsmodels.stats.api as sms\n",
        "import matplotlib as mpl\n",
        "import matplotlib.pyplot as plt\n",
        "import seaborn as sns\n",
        "from math import ceil"
      ]
    },
    {
      "cell_type": "markdown",
      "metadata": {
        "id": "I55c6Ifjwprb"
      },
      "source": [
        "Hₒ: p = pₒ\n",
        "\n",
        "Hₐ: p ≠ pₒ\n",
        "\n",
        "Também definiremos um nível de confiança de 95%\n",
        "\n",
        "## Escolhendo as variáveis\n",
        "Para nosso teste, temos dois grupos:\n",
        "\n",
        "Um grupo de controle - Eles viram o design antigo\n",
        "\n",
        "Um grupo de tratamento (ou experimental) - Eles viram o novo design\n",
        "\n",
        "0 - O usuário não comprou o produto durante esta sessão de usuário\n",
        "\n",
        "1 - O usuário comprou o produto durante esta sessão de usuário"
      ]
    },
    {
      "cell_type": "code",
      "execution_count": 8,
      "metadata": {
        "colab": {
          "base_uri": "https://localhost:8080/",
          "height": 424
        },
        "id": "usmfrPLo7Pcp",
        "outputId": "0de87cc2-2cfa-4345-e8a3-9d16633a0550"
      },
      "outputs": [
        {
          "data": {
            "text/html": [
              "<div>\n",
              "<style scoped>\n",
              "    .dataframe tbody tr th:only-of-type {\n",
              "        vertical-align: middle;\n",
              "    }\n",
              "\n",
              "    .dataframe tbody tr th {\n",
              "        vertical-align: top;\n",
              "    }\n",
              "\n",
              "    .dataframe thead th {\n",
              "        text-align: right;\n",
              "    }\n",
              "</style>\n",
              "<table border=\"1\" class=\"dataframe\">\n",
              "  <thead>\n",
              "    <tr style=\"text-align: right;\">\n",
              "      <th></th>\n",
              "      <th>Unnamed: 0</th>\n",
              "      <th>user_id</th>\n",
              "      <th>timestamp</th>\n",
              "      <th>landing_page</th>\n",
              "      <th>converted</th>\n",
              "      <th>group</th>\n",
              "    </tr>\n",
              "  </thead>\n",
              "  <tbody>\n",
              "    <tr>\n",
              "      <th>0</th>\n",
              "      <td>281655</td>\n",
              "      <td>918193</td>\n",
              "      <td>2017-01-03 13:42:27.285433</td>\n",
              "      <td>new_page</td>\n",
              "      <td>1</td>\n",
              "      <td>treatment</td>\n",
              "    </tr>\n",
              "    <tr>\n",
              "      <th>1</th>\n",
              "      <td>7271</td>\n",
              "      <td>679658</td>\n",
              "      <td>2017-01-20 02:00:54.448676</td>\n",
              "      <td>new_page</td>\n",
              "      <td>1</td>\n",
              "      <td>treatment</td>\n",
              "    </tr>\n",
              "    <tr>\n",
              "      <th>2</th>\n",
              "      <td>269760</td>\n",
              "      <td>815158</td>\n",
              "      <td>2017-01-16 05:11:33.823264</td>\n",
              "      <td>new_page</td>\n",
              "      <td>1</td>\n",
              "      <td>treatment</td>\n",
              "    </tr>\n",
              "    <tr>\n",
              "      <th>3</th>\n",
              "      <td>158882</td>\n",
              "      <td>857307</td>\n",
              "      <td>2017-01-22 08:58:50.687626</td>\n",
              "      <td>new_page</td>\n",
              "      <td>1</td>\n",
              "      <td>treatment</td>\n",
              "    </tr>\n",
              "    <tr>\n",
              "      <th>4</th>\n",
              "      <td>153958</td>\n",
              "      <td>716896</td>\n",
              "      <td>2017-01-15 17:59:03.065352</td>\n",
              "      <td>new_page</td>\n",
              "      <td>1</td>\n",
              "      <td>treatment</td>\n",
              "    </tr>\n",
              "    <tr>\n",
              "      <th>...</th>\n",
              "      <td>...</td>\n",
              "      <td>...</td>\n",
              "      <td>...</td>\n",
              "      <td>...</td>\n",
              "      <td>...</td>\n",
              "      <td>...</td>\n",
              "    </tr>\n",
              "    <tr>\n",
              "      <th>5631</th>\n",
              "      <td>2813</td>\n",
              "      <td>848867</td>\n",
              "      <td>2017-01-03 04:37:58.815088</td>\n",
              "      <td>old_page</td>\n",
              "      <td>0</td>\n",
              "      <td>control</td>\n",
              "    </tr>\n",
              "    <tr>\n",
              "      <th>5632</th>\n",
              "      <td>2814</td>\n",
              "      <td>896519</td>\n",
              "      <td>2017-01-05 18:54:30.314378</td>\n",
              "      <td>old_page</td>\n",
              "      <td>0</td>\n",
              "      <td>control</td>\n",
              "    </tr>\n",
              "    <tr>\n",
              "      <th>5633</th>\n",
              "      <td>2815</td>\n",
              "      <td>639731</td>\n",
              "      <td>2017-01-23 10:15:31.261524</td>\n",
              "      <td>old_page</td>\n",
              "      <td>0</td>\n",
              "      <td>control</td>\n",
              "    </tr>\n",
              "    <tr>\n",
              "      <th>5634</th>\n",
              "      <td>2816</td>\n",
              "      <td>788990</td>\n",
              "      <td>2017-01-10 12:51:44.488371</td>\n",
              "      <td>old_page</td>\n",
              "      <td>0</td>\n",
              "      <td>control</td>\n",
              "    </tr>\n",
              "    <tr>\n",
              "      <th>5635</th>\n",
              "      <td>2817</td>\n",
              "      <td>838038</td>\n",
              "      <td>2017-01-06 04:44:36.435463</td>\n",
              "      <td>old_page</td>\n",
              "      <td>0</td>\n",
              "      <td>control</td>\n",
              "    </tr>\n",
              "  </tbody>\n",
              "</table>\n",
              "<p>5636 rows × 6 columns</p>\n",
              "</div>"
            ],
            "text/plain": [
              "      Unnamed: 0  user_id                   timestamp landing_page  converted  \\\n",
              "0         281655   918193  2017-01-03 13:42:27.285433     new_page          1   \n",
              "1           7271   679658  2017-01-20 02:00:54.448676     new_page          1   \n",
              "2         269760   815158  2017-01-16 05:11:33.823264     new_page          1   \n",
              "3         158882   857307  2017-01-22 08:58:50.687626     new_page          1   \n",
              "4         153958   716896  2017-01-15 17:59:03.065352     new_page          1   \n",
              "...          ...      ...                         ...          ...        ...   \n",
              "5631        2813   848867  2017-01-03 04:37:58.815088     old_page          0   \n",
              "5632        2814   896519  2017-01-05 18:54:30.314378     old_page          0   \n",
              "5633        2815   639731  2017-01-23 10:15:31.261524     old_page          0   \n",
              "5634        2816   788990  2017-01-10 12:51:44.488371     old_page          0   \n",
              "5635        2817   838038  2017-01-06 04:44:36.435463     old_page          0   \n",
              "\n",
              "          group  \n",
              "0     treatment  \n",
              "1     treatment  \n",
              "2     treatment  \n",
              "3     treatment  \n",
              "4     treatment  \n",
              "...         ...  \n",
              "5631    control  \n",
              "5632    control  \n",
              "5633    control  \n",
              "5634    control  \n",
              "5635    control  \n",
              "\n",
              "[5636 rows x 6 columns]"
            ]
          },
          "execution_count": 8,
          "metadata": {},
          "output_type": "execute_result"
        }
      ],
      "source": [
        "# carregando o csv num dataframe\n",
        "\n",
        "df_test = pd.read_csv(\"../data/df_test.csv\")\n",
        "df_test"
      ]
    },
    {
      "cell_type": "markdown",
      "metadata": {
        "id": "RMAzMCVPwprf"
      },
      "source": [
        "# 4. Comprove a partir dos testes de hipótese se houve mudança"
      ]
    },
    {
      "cell_type": "markdown",
      "metadata": {
        "id": "07McQXbgMeos"
      },
      "source": [
        "Agora chegou a hora de usarmos nossos conhecimentos de teste de hipótese para comprovar diferenças de média!"
      ]
    },
    {
      "cell_type": "code",
      "execution_count": 9,
      "metadata": {
        "colab": {
          "base_uri": "https://localhost:8080/"
        },
        "id": "7D14_pSyL298",
        "outputId": "a7c67bb4-7e97-4be9-d6db-6ec5a7f684db"
      },
      "outputs": [
        {
          "name": "stdout",
          "output_type": "stream",
          "text": [
            "0.18985095812633074 0.12455642299503193\n"
          ]
        }
      ],
      "source": [
        "# filtramos o df e criamos dois diferentes, um apenas com os dados do grupo de treinamento e outro com os de controle\n",
        "\n",
        "grupo_tratamento = df_test[df_test.group == \"treatment\"]\n",
        "grupo_controle = df_test[df_test.group == \"control\"]\n",
        "\n",
        "#calculamos a taxa de conversão para cada grupo (conversão = numero de pessoas que compraram o produto / total de pessoas do grupo)\n",
        "conversao_tratamento = grupo_tratamento[grupo_tratamento.converted==1].user_id.count()/grupo_tratamento.user_id.count()\n",
        "\n",
        "conversao_controle = grupo_controle[grupo_controle.converted==1].user_id.count()/grupo_controle.user_id.count()\n",
        "\n",
        "\n",
        "print(conversao_tratamento, conversao_controle)"
      ]
    },
    {
      "cell_type": "markdown",
      "metadata": {
        "id": "l0ATo6IBwprj"
      },
      "source": [
        "Observe que o grupo de controle (viram o desing antigo) teve uma conversão de 12.45%, enquanto o grupo de tratamento (viram o desing novo) tiveram uma conversão de 18.98%.\n",
        "\n",
        "Vimos aqui que, aparentemente, houve melhora na média. Mas será que é estatisticamente significativa?\n",
        "\n",
        "A depender do que você tem em sua amostra, escolhemos o teste a ser usado. Aqui estamos falando de uma proporção (conversão é a proporção) e, portanto, vamos usar o teste de comparação de proporções."
      ]
    },
    {
      "cell_type": "code",
      "execution_count": 10,
      "metadata": {
        "colab": {
          "base_uri": "https://localhost:8080/"
        },
        "id": "It7qvgkrwprj",
        "outputId": "f2942d78-be34-45b3-dffc-f5302ae5a4d0",
        "trusted": true
      },
      "outputs": [
        {
          "name": "stdout",
          "output_type": "stream",
          "text": [
            "-6.733481162342496 1.6565111652777357e-11\n"
          ]
        }
      ],
      "source": [
        "from statsmodels.stats.proportion import proportions_ztest, proportion_confint\n",
        "\n",
        "# definimos os grupos de controle/tratamento\n",
        "control_results = grupo_controle['converted']\n",
        "treatment_results = grupo_tratamento['converted']\n",
        "\n",
        "#definimos o numero sucesso que tivemos em cada grupo, ou seja, quantos 1 tivemos em cada grupo\n",
        "\n",
        "successes = [control_results.sum(), treatment_results.sum()]\n",
        "\n",
        "# calculamos o tamanho da amostra de cada grupo (tamanho será o numero total de registros de cada grupo)\n",
        "n_con = grupo_controle.user_id.count()\n",
        "n_treat = grupo_tratamento.user_id.count()\n",
        "nobs = [n_con, n_treat] #tamanho das amostras de cada grupo\n",
        "\n",
        "z_stat,pvalue = proportions_ztest(successes, nobs=nobs) #calculamos z para o teste e seu respectivo pvalor\n",
        "print(z_stat, pvalue)"
      ]
    },
    {
      "cell_type": "markdown",
      "metadata": {
        "id": "SiqSqVaBNUDP"
      },
      "source": [
        "Nosso teste era bilateral (pois nossas hipoteses são Hₒ: p = pₒ e Hₐ: p ≠ pₒ).\n",
        "Lembrando que para esse caso, a zona de rejeição é z<-1.96 e z>1.96.\n",
        "Logo, para z=-6.73 REJEITAMOS a hipótese nula. Ou seja, as proporções não são iguais.\n",
        "\n",
        "Podemos rejeitar também pelo valor menor que 0.05 do pvalue"
      ]
    },
    {
      "cell_type": "markdown",
      "metadata": {
        "id": "WQWxtyMiO4o3"
      },
      "source": [
        "Podemos ver também como fica o intervalo de confiança e tirar insights sobre isso"
      ]
    },
    {
      "cell_type": "code",
      "execution_count": 11,
      "metadata": {
        "colab": {
          "base_uri": "https://localhost:8080/"
        },
        "id": "BD1x4iTOOXEm",
        "outputId": "5b7d9103-9ab0-4933-b633-c822937c740e"
      },
      "outputs": [
        {
          "name": "stdout",
          "output_type": "stream",
          "text": [
            "ci 95% for control group: [0.112, 0.137]\n",
            "ci 95% for treatment group: [0.175, 0.204]\n"
          ]
        }
      ],
      "source": [
        "(lower_con, lower_treat), (upper_con, upper_treat) = proportion_confint(successes, nobs=nobs, alpha=0.05)\n",
        "\n",
        "\n",
        "print(f'ci 95% for control group: [{lower_con:.3f}, {upper_con:.3f}]')\n",
        "print(f'ci 95% for treatment group: [{lower_treat:.3f}, {upper_treat:.3f}]')"
      ]
    },
    {
      "cell_type": "markdown",
      "metadata": {
        "id": "rMasfBq7Gfm0"
      },
      "source": [
        "Para decidir se temos evidencias estatisticamente significativas para rejeitar a hipótese nula, temos de avaliar os seguinte pontos:\n",
        "\n",
        "- Se os Intervalos de Confiança Não se Sobrepõem:\n",
        "  - Se os intervalos de confiança para as proporções de sucesso dos grupos de controle e tratamento não se sobrepõem, isso sugere que as proporções de sucesso são significativamente diferentes entre os grupos.\n",
        "- Se os Intervalos de Confiança se Sobrepõem:\n",
        "  - Você pode não ter evidências suficientes para concluir que houve uma diferença significativa na conversão entre os grupos apenas com base nos intervalos de confiança.\n",
        "\n",
        "  No nosso caso, os intervalos NÃO se sobrepoem logo isso sugere que, com 95% de confiança, há uma diferença significativa nas proporções de sucesso entre os grupos de controle e tratamento."
      ]
    },
    {
      "cell_type": "markdown",
      "metadata": {
        "id": "bKe36PZpFyTy"
      },
      "source": [
        "# Sumário\n",
        "\n",
        "#### Manipulação de dados\n",
        "\n",
        "1. **Filtrar um df por valores numa determinada coluna (coluna_1):**\n",
        "\n",
        "   ```python\n",
        "   df_filtrado = df[df.coluna_1 == \"valor_a_filtrar\"]\n",
        "\n",
        "   ou\n",
        "\n",
        "   df_filtrado = df[df[\"coluna_1\"] == \"valor_a_filtrar\"]\n",
        "   ```\n",
        "\n",
        "2. **Manipular strings:**\n",
        "\n",
        "  ```python\n",
        "  print(f'Escreva a sua mensagem: {variável que quer mostrar}')\n",
        "   ```\n",
        "\n",
        "#### Testes de Hipóteses e Intervalo dde Confiança\n",
        "\n",
        "3. **Teste de proporção para 2 amostras independentes:**\n",
        "- Definindo tupla para número de sucessos:\n",
        "\n",
        "   ```python\n",
        "   successes = [grupo_1.sum(), grupo_2.sum()]\n",
        "   ```\n",
        "- Definindo tupla para tamano de cada grupo (amostra):\n",
        "\n",
        "   ```python\n",
        "   nobs = [grupo_1[\"coluna_id\"].count(), grupo_2[\"coluna_id\"].count()]\n",
        "   ```\n",
        "\n",
        "- Cálculo do z-score e p_value (respectivamente):\n",
        "\n",
        "  ```python\n",
        "  z_stat,pvalue = proportions_ztest(successes, nobs=nobs)\n",
        "  ```\n",
        "\n",
        "4. **Intervalo de confiança:**\n",
        "   ```python\n",
        "   (lower_grupo_1, lower_grupo_2), (upper_grupo_1, upper_grupo_2) = proportion_confint(successes, nobs=nobs, alpha=nível de confiança)\n",
        "   ```\n",
        "\n",
        "\n"
      ]
    }
  ],
  "metadata": {
    "colab": {
      "provenance": []
    },
    "kernelspec": {
      "display_name": ".venv",
      "language": "python",
      "name": "python3"
    },
    "language_info": {
      "codemirror_mode": {
        "name": "ipython",
        "version": 3
      },
      "file_extension": ".py",
      "mimetype": "text/x-python",
      "name": "python",
      "nbconvert_exporter": "python",
      "pygments_lexer": "ipython3",
      "version": "3.10.11"
    }
  },
  "nbformat": 4,
  "nbformat_minor": 0
}
